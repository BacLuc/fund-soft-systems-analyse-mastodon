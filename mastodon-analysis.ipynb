{
 "cells": [
  {
   "cell_type": "markdown",
   "metadata": {},
   "source": [
    "# Fundamentals of Software Systems - SE Part I Assignment\n",
    "\n",
    "By Andy Wiemeyer and Lucius Bachmann"
   ]
  },
  {
   "cell_type": "markdown",
   "source": [
    "### Setup tools\n",
    "* checkout repo\n",
    "* initialize Git utility\n",
    "* You can recreate the Repository object with other parameters to analyze different time periods.\n",
    "  The last year was used that the setup is fast."
   ],
   "metadata": {
    "collapsed": false
   }
  },
  {
   "cell_type": "code",
   "execution_count": null,
   "metadata": {},
   "outputs": [],
   "source": [
    "import os.path\n",
    "from datetime import datetime\n",
    "from pydriller import Repository, Git\n",
    "from os import path, mkdir\n",
    "import pandas as pd\n",
    "import plotly.express as px\n",
    "\n",
    "repo_remote_path = 'https://github.com/mastodon/mastodon.git'\n",
    "repo_path = 'mastodon'\n",
    "repo_checkout_path = f'{repo_path}/{repo_path}'\n",
    "filepath = 'app'\n",
    "\n",
    "if not path.exists(repo_path):\n",
    "    mkdir(repo_path)\n",
    "\n",
    "repo = Repository(repo_remote_path, clone_repo_to=repo_path, since=datetime.fromisoformat('2022-10-01'), filepath=filepath)\n",
    "# clone repo if necessary\n",
    "for commit in repo.traverse_commits():\n",
    "    break\n",
    "git = Git(repo_checkout_path)"
   ]
  },
  {
   "cell_type": "markdown",
   "metadata": {},
   "source": [
    "### Checkout repo at tag v3.5.3"
   ]
  },
  {
   "cell_type": "code",
   "execution_count": null,
   "metadata": {},
   "outputs": [],
   "source": [
    "tag = git.get_commit_from_tag('v3.5.3')\n",
    "git.checkout(tag.hash)"
   ]
  },
  {
   "cell_type": "markdown",
   "source": [
    "## 1 Complexity Hotspots"
   ],
   "metadata": {
    "collapsed": false
   }
  },
  {
   "cell_type": "markdown",
   "source": [
    "1. You must consider only the app folder from the Mastodon repository\n",
    "(i.e., https://github.com/mastodon/mastodon)."
   ],
   "metadata": {
    "collapsed": false
   }
  },
  {
   "cell_type": "markdown",
   "source": [
    "-> nothing to do"
   ],
   "metadata": {
    "collapsed": false
   }
  },
  {
   "cell_type": "markdown",
   "source": [
    "2. Decide on the granularity of your analysis of software entities (e.g., source code\n",
    "files); describe why you selected this specific granularity."
   ],
   "metadata": {
    "collapsed": false
   }
  },
  {
   "cell_type": "markdown",
   "source": [
    "For this analysis the granularity of source code files is used. It is an easy unit to perform measurements on. The mastodon repository contains a ruby on rails application with some javascript for the frontend. In both languages it's possible to define multiple classes in one file. Without performing a programming language specific analysis, it's not possible to measure smaller units.\n"
   ],
   "metadata": {
    "collapsed": false
   }
  },
  {
   "cell_type": "markdown",
   "source": [
    "3. Create a list of all these entities, as they appear in the latest stable release of\n",
    "Mastodon (i.e., tag v3.5.3)."
   ],
   "metadata": {
    "collapsed": false
   },
   "outputs": []
  },
  {
   "cell_type": "code",
   "execution_count": null,
   "outputs": [],
   "source": [
    "full_file_paths_all_dirs = git.files() #full path of all files in the analyzed commit\n",
    "subdirectory_start = \"/\" + repo_checkout_path + \"/\"\n",
    "full_file_paths = [path for path in full_file_paths_all_dirs if subdirectory_start+\"app/\" in path]\n",
    "subdirectory_start_index = full_file_paths[0].find(subdirectory_start) + len(subdirectory_start)\n",
    "subdirectory_prefix = full_file_paths[0][:subdirectory_start_index]#used later\n",
    "file_paths = [path[subdirectory_start_index:] for path in full_file_paths] #paths relative to analyzed subdirectory"
   ],
   "metadata": {
    "collapsed": false
   }
  },
  {
   "cell_type": "code",
   "execution_count": null,
   "outputs": [],
   "source": [
    "file_names = [path[max(0,path.rfind(\"/\"))+1:] for path in full_file_paths]\n",
    "print(f\"Amount of different files with equal name: {len(file_names)-len(set(file_names))}\")\n",
    "counted_file_names = {}\n",
    "for name in file_names:\n",
    "    if name not in counted_file_names:\n",
    "        counted_file_names[name] = 1\n",
    "    else:\n",
    "        counted_file_names[name] += 1\n",
    "print([f\"{name}: {count}\" for name, count in counted_file_names.items() if count>1])"
   ],
   "metadata": {
    "collapsed": false
   }
  },
  {
   "cell_type": "markdown",
   "source": [
    "A lot of different files have the same name (see above) so we use the paths to identify files:"
   ],
   "metadata": {
    "collapsed": false
   }
  },
  {
   "cell_type": "code",
   "execution_count": null,
   "outputs": [],
   "source": [
    "print(file_paths)"
   ],
   "metadata": {
    "collapsed": false
   }
  },
  {
   "cell_type": "markdown",
   "source": [
    "List the file endings of the paths used in this analysis"
   ],
   "metadata": {
    "collapsed": false
   }
  },
  {
   "cell_type": "code",
   "execution_count": null,
   "outputs": [],
   "source": [
    "from pandas import DataFrame\n",
    "from collections import Counter\n",
    "\n",
    "extensions = Counter([path.splitext(entity)[1] for entity in file_paths])\n",
    "\n",
    "colname_nr_of_occurences = 'nr of occurrences'\n",
    "df_extensions = DataFrame(extensions.items(), columns=['file ending', colname_nr_of_occurences])\n",
    "display(df_extensions.sort_values(by=colname_nr_of_occurences, ascending=False))"
   ],
   "metadata": {
    "collapsed": false
   }
  },
  {
   "cell_type": "markdown",
   "source": [
    "4. Decide on the type of complexity you want to measure for your software entities\n",
    "and explain why you selected this type."
   ],
   "metadata": {
    "collapsed": false
   },
   "outputs": []
  },
  {
   "cell_type": "markdown",
   "source": [
    "To decide which metric would be a good indicator for complexity, a file was chosen to show the metrics the lizard library provides."
   ],
   "metadata": {
    "collapsed": false
   }
  },
  {
   "cell_type": "code",
   "execution_count": null,
   "outputs": [],
   "source": [
    "import lizard\n",
    "\n",
    "filename = 'mastodon/mastodon/app/workers/scheduler/indexing_scheduler.rb'\n",
    "file = open(filename, mode='r')\n",
    "analysis = lizard.analyze_file.analyze_source_code(filename, file.read())\n",
    "print(f'of file {filename}')\n",
    "print(f'nr of functions: {len(analysis.function_list)}')\n",
    "print(f'cyclomatic complexity: {analysis.CCN}')\n",
    "print(f'lines of code: {analysis.nloc}')\n",
    "print(f'token_count: {analysis.token_count}')\n",
    "try:\n",
    "    print(f'deepest nesting level: {analysis.ND}')\n",
    "except AttributeError:\n",
    "    print(f'deepest nesting level threw an error')\n",
    "\n"
   ],
   "metadata": {
    "collapsed": false
   }
  },
  {
   "cell_type": "markdown",
   "source": [
    "In the lecture we learned that the number of lines of code is a proven measurement for complexity.\n",
    "Pydriller already measures this, thus the number of lines of code is used as measurement for complexity."
   ],
   "metadata": {
    "collapsed": false
   }
  },
  {
   "cell_type": "markdown",
   "source": [
    "5. Decide on a timeframe on which you want to base your analysis and explain the\n",
    "rationale of your choice."
   ],
   "metadata": {
    "collapsed": false
   }
  },
  {
   "cell_type": "markdown",
   "source": [
    "In a first step, the activity on the repository is analysed."
   ],
   "metadata": {
    "collapsed": false
   }
  },
  {
   "cell_type": "code",
   "execution_count": null,
   "outputs": [],
   "source": [
    "repo = Repository(repo_remote_path, clone_repo_to=repo_path)\n",
    "commit_dates = []\n",
    "\n",
    "for commit in repo.traverse_commits():\n",
    "    commit_dates.append(commit.committer_date.strftime('%Y-%m-%d'))\n",
    "\n",
    "df_commit_dates = DataFrame(Counter(commit_dates).items(), columns=['date', 'nr_of_commits'])\n",
    "line = px.line(df_commit_dates, x='date', y='nr_of_commits')\n",
    "line.update_layout(font_size=18)\n",
    "line.show()"
   ],
   "metadata": {
    "collapsed": false
   }
  },
  {
   "cell_type": "markdown",
   "source": [
    "Here we see that the development activity had a peak in 2017, and would be a little higher in the year 2020.\n",
    "Because we saw that with a timeframe between 2019 and 2022 we see a significant number of defects,\n",
    "we chose the timeframe of the last 3 years.\n",
    "\n",
    "If a complexity hotspot was found which was created a long time ago and\n",
    "was not changed for a long time, then the analysis would not add value.\n",
    "This analysis focuses on the last year."
   ],
   "metadata": {
    "collapsed": false
   }
  },
  {
   "cell_type": "code",
   "execution_count": null,
   "outputs": [],
   "source": [
    "since = datetime.fromisoformat('2019-11-08')\n",
    "to = datetime.fromisoformat('2022-11-08')\n",
    "\n",
    "repo = Repository(repo_remote_path, clone_repo_to=repo_path, since=since, to=to, filepath=filepath)\n",
    "git = Git(repo_checkout_path)"
   ],
   "metadata": {
    "collapsed": false
   }
  },
  {
   "cell_type": "markdown",
   "source": [
    "6. For each entity in the system, measure its complexity and the number of changes\n",
    "(in the given timeframe). Merge these two pieces of information together to cre-\n",
    "ate a candidate list of problematic hotspots in the app part of Mastodon."
   ],
   "metadata": {
    "collapsed": false
   },
   "outputs": []
  },
  {
   "cell_type": "code",
   "execution_count": null,
   "outputs": [],
   "source": [
    "path_to_results = './analysis_data.csv'\n",
    "if not os.path.isfile(path_to_results): #check if we have already saved the results\n",
    "    analysis_df = pd.DataFrame( #create dataframe with\n",
    "        {'Name':file_names, 'Full Path':full_file_paths}, #data columns\n",
    "        index=file_paths) #and index\n",
    "\n",
    "    #Compute complexities\n",
    "    complexity_comp_exceptions = {} #to analyse what caused error (mostly images)\n",
    "    for idx in analysis_df.index:\n",
    "        try:\n",
    "            with open(analysis_df.loc[idx, 'Full Path'], 'r') as file:\n",
    "                analysis_df.loc[idx, 'Complexity'] = len(file.readlines())\n",
    "        except Exception as e:\n",
    "            complexity_comp_exceptions[idx]=e\n",
    "    analysis_df.to_csv(path_to_results)\n",
    "\n",
    "    # Count amount of times changed\n",
    "    analysis_df['CommitPath'] = analysis_df.index #For tracking the path that a file has in the current commit if it was moved\n",
    "    analysis_df['Amount of changes'] = 0 #set change counter to 0\n",
    "    for commit in reversed(list(repo.traverse_commits())):\n",
    "        for file in commit.modified_files:\n",
    "            idx = analysis_df[analysis_df['CommitPath']==file.new_path].index\n",
    "            analysis_df.loc[idx, 'Amount of changes'] += 1\n",
    "            analysis_df.loc[idx, 'CommitPath'] = file.old_path #update commit path\n",
    "    analysis_df.drop(columns='CommitPath', inplace=True) #get rid of temporary indexing\n",
    "    analysis_df.to_csv(path_to_results)"
   ],
   "metadata": {
    "collapsed": false,
    "pycharm": {
     "name": "#%% compute results\n"
    }
   }
  },
  {
   "cell_type": "code",
   "execution_count": null,
   "outputs": [],
   "source": [
    "analysis_df = pd.read_csv(path_to_results, index_col=[0])\n",
    "# show results\n",
    "#analysis_df['Complexity'].sort_values(ascending=False)[:10] #Print top 10 entries\n",
    "#analysis_df['Amount of changes'].sort_values(ascending=False)[:10] #Print top 10 entries"
   ],
   "metadata": {
    "collapsed": false,
    "pycharm": {
     "name": "#%% load results\n"
    }
   }
  },
  {
   "cell_type": "markdown",
   "source": [
    "7. Visualize the hotspots with a visualization of your choice."
   ],
   "metadata": {
    "collapsed": false
   }
  },
  {
   "cell_type": "code",
   "execution_count": null,
   "outputs": [],
   "source": [
    "complexity_hist = px.histogram(analysis_df, x='Complexity', hover_data={\"path\": analysis_df.index})\n",
    "complexity_hist.show() #exponential dist in complexity -> use log axis\n",
    "change_amount_hist = px.histogram(analysis_df, x='Amount of changes', hover_data={\"path\": analysis_df.index})\n",
    "change_amount_hist.show() #exponential dist in amount of changes -> use log axis\n",
    "\n",
    "comparison_scatter = px.scatter(analysis_df, x='Complexity', y='Amount of changes',\n",
    "                 hover_data={\"path\": analysis_df.index})\n",
    "comparison_scatter.show()\n",
    "\n",
    "comparison_scatter_log = px.scatter(analysis_df, x='Complexity', y='Amount of changes',\n",
    "                 log_x=True, log_y=True,\n",
    "                 hover_data={\"path\": analysis_df.index})\n",
    "comparison_scatter_log.show()"
   ],
   "metadata": {
    "collapsed": false
   }
  },
  {
   "cell_type": "markdown",
   "source": [],
   "metadata": {
    "collapsed": false
   }
  },
  {
   "cell_type": "code",
   "execution_count": 49,
   "outputs": [
    {
     "data": {
      "text/plain": "                                                                    Name  \\\napp/javascript/styles/mastodon/components.scss           components.scss   \napp/javascript/mastodon/locales/en.json                          en.json   \napp/javascript/mastodon/locales/defaultMessages...  defaultMessages.json   \napp/models/account.rb                                         account.rb   \napp/javascript/mastodon/locales/ja.json                          ja.json   \napp/javascript/mastodon/locales/zh-CN.json                    zh-CN.json   \napp/javascript/mastodon/locales/gl.json                          gl.json   \napp/javascript/mastodon/locales/vi.json                          vi.json   \napp/javascript/mastodon/locales/th.json                          th.json   \napp/javascript/mastodon/locales/ko.json                          ko.json   \napp/models/status.rb                                           status.rb   \napp/javascript/mastodon/locales/ru.json                          ru.json   \napp/javascript/mastodon/locales/fr.json                          fr.json   \napp/javascript/mastodon/locales/ca.json                          ca.json   \napp/javascript/mastodon/locales/es.json                          es.json   \napp/javascript/mastodon/locales/tr.json                          tr.json   \napp/javascript/mastodon/locales/ml.json                          ml.json   \napp/javascript/mastodon/locales/pt-PT.json                    pt-PT.json   \napp/javascript/mastodon/locales/cs.json                          cs.json   \napp/models/user.rb                                               user.rb   \n\n                                                                                            Full Path  \\\napp/javascript/styles/mastodon/components.scss      /Users/uzh/Library/CloudStorage/OneDrive-Unive...   \napp/javascript/mastodon/locales/en.json             /Users/uzh/Library/CloudStorage/OneDrive-Unive...   \napp/javascript/mastodon/locales/defaultMessages...  /Users/uzh/Library/CloudStorage/OneDrive-Unive...   \napp/models/account.rb                               /Users/uzh/Library/CloudStorage/OneDrive-Unive...   \napp/javascript/mastodon/locales/ja.json             /Users/uzh/Library/CloudStorage/OneDrive-Unive...   \napp/javascript/mastodon/locales/zh-CN.json          /Users/uzh/Library/CloudStorage/OneDrive-Unive...   \napp/javascript/mastodon/locales/gl.json             /Users/uzh/Library/CloudStorage/OneDrive-Unive...   \napp/javascript/mastodon/locales/vi.json             /Users/uzh/Library/CloudStorage/OneDrive-Unive...   \napp/javascript/mastodon/locales/th.json             /Users/uzh/Library/CloudStorage/OneDrive-Unive...   \napp/javascript/mastodon/locales/ko.json             /Users/uzh/Library/CloudStorage/OneDrive-Unive...   \napp/models/status.rb                                /Users/uzh/Library/CloudStorage/OneDrive-Unive...   \napp/javascript/mastodon/locales/ru.json             /Users/uzh/Library/CloudStorage/OneDrive-Unive...   \napp/javascript/mastodon/locales/fr.json             /Users/uzh/Library/CloudStorage/OneDrive-Unive...   \napp/javascript/mastodon/locales/ca.json             /Users/uzh/Library/CloudStorage/OneDrive-Unive...   \napp/javascript/mastodon/locales/es.json             /Users/uzh/Library/CloudStorage/OneDrive-Unive...   \napp/javascript/mastodon/locales/tr.json             /Users/uzh/Library/CloudStorage/OneDrive-Unive...   \napp/javascript/mastodon/locales/ml.json             /Users/uzh/Library/CloudStorage/OneDrive-Unive...   \napp/javascript/mastodon/locales/pt-PT.json          /Users/uzh/Library/CloudStorage/OneDrive-Unive...   \napp/javascript/mastodon/locales/cs.json             /Users/uzh/Library/CloudStorage/OneDrive-Unive...   \napp/models/user.rb                                  /Users/uzh/Library/CloudStorage/OneDrive-Unive...   \n\n                                                    Complexity  \\\napp/javascript/styles/mastodon/components.scss          7790.0   \napp/javascript/mastodon/locales/en.json                  549.0   \napp/javascript/mastodon/locales/defaultMessages...      3714.0   \napp/models/account.rb                                    621.0   \napp/javascript/mastodon/locales/ja.json                  549.0   \napp/javascript/mastodon/locales/zh-CN.json               549.0   \napp/javascript/mastodon/locales/gl.json                  549.0   \napp/javascript/mastodon/locales/vi.json                  549.0   \napp/javascript/mastodon/locales/th.json                  549.0   \napp/javascript/mastodon/locales/ko.json                  549.0   \napp/models/status.rb                                     523.0   \napp/javascript/mastodon/locales/ru.json                  549.0   \napp/javascript/mastodon/locales/fr.json                  549.0   \napp/javascript/mastodon/locales/ca.json                  549.0   \napp/javascript/mastodon/locales/es.json                  549.0   \napp/javascript/mastodon/locales/tr.json                  549.0   \napp/javascript/mastodon/locales/ml.json                  549.0   \napp/javascript/mastodon/locales/pt-PT.json               549.0   \napp/javascript/mastodon/locales/cs.json                  549.0   \napp/models/user.rb                                       475.0   \n\n                                                    Amount of changes  Defects  \napp/javascript/styles/mastodon/components.scss                    102       10  \napp/javascript/mastodon/locales/en.json                            54        1  \napp/javascript/mastodon/locales/defaultMessages...                 51        1  \napp/models/account.rb                                              45        8  \napp/javascript/mastodon/locales/ja.json                            43        1  \napp/javascript/mastodon/locales/zh-CN.json                         42        1  \napp/javascript/mastodon/locales/gl.json                            42        1  \napp/javascript/mastodon/locales/vi.json                            42        1  \napp/javascript/mastodon/locales/th.json                            42        1  \napp/javascript/mastodon/locales/ko.json                            41        1  \napp/models/status.rb                                               41        8  \napp/javascript/mastodon/locales/ru.json                            40        1  \napp/javascript/mastodon/locales/fr.json                            40        1  \napp/javascript/mastodon/locales/ca.json                            40        1  \napp/javascript/mastodon/locales/es.json                            38        1  \napp/javascript/mastodon/locales/tr.json                            37        1  \napp/javascript/mastodon/locales/ml.json                            37        1  \napp/javascript/mastodon/locales/pt-PT.json                         37        1  \napp/javascript/mastodon/locales/cs.json                            37        1  \napp/models/user.rb                                                 37        9  ",
      "text/html": "<div>\n<style scoped>\n    .dataframe tbody tr th:only-of-type {\n        vertical-align: middle;\n    }\n\n    .dataframe tbody tr th {\n        vertical-align: top;\n    }\n\n    .dataframe thead th {\n        text-align: right;\n    }\n</style>\n<table border=\"1\" class=\"dataframe\">\n  <thead>\n    <tr style=\"text-align: right;\">\n      <th></th>\n      <th>Name</th>\n      <th>Full Path</th>\n      <th>Complexity</th>\n      <th>Amount of changes</th>\n      <th>Defects</th>\n    </tr>\n  </thead>\n  <tbody>\n    <tr>\n      <th>app/javascript/styles/mastodon/components.scss</th>\n      <td>components.scss</td>\n      <td>/Users/uzh/Library/CloudStorage/OneDrive-Unive...</td>\n      <td>7790.0</td>\n      <td>102</td>\n      <td>10</td>\n    </tr>\n    <tr>\n      <th>app/javascript/mastodon/locales/en.json</th>\n      <td>en.json</td>\n      <td>/Users/uzh/Library/CloudStorage/OneDrive-Unive...</td>\n      <td>549.0</td>\n      <td>54</td>\n      <td>1</td>\n    </tr>\n    <tr>\n      <th>app/javascript/mastodon/locales/defaultMessages.json</th>\n      <td>defaultMessages.json</td>\n      <td>/Users/uzh/Library/CloudStorage/OneDrive-Unive...</td>\n      <td>3714.0</td>\n      <td>51</td>\n      <td>1</td>\n    </tr>\n    <tr>\n      <th>app/models/account.rb</th>\n      <td>account.rb</td>\n      <td>/Users/uzh/Library/CloudStorage/OneDrive-Unive...</td>\n      <td>621.0</td>\n      <td>45</td>\n      <td>8</td>\n    </tr>\n    <tr>\n      <th>app/javascript/mastodon/locales/ja.json</th>\n      <td>ja.json</td>\n      <td>/Users/uzh/Library/CloudStorage/OneDrive-Unive...</td>\n      <td>549.0</td>\n      <td>43</td>\n      <td>1</td>\n    </tr>\n    <tr>\n      <th>app/javascript/mastodon/locales/zh-CN.json</th>\n      <td>zh-CN.json</td>\n      <td>/Users/uzh/Library/CloudStorage/OneDrive-Unive...</td>\n      <td>549.0</td>\n      <td>42</td>\n      <td>1</td>\n    </tr>\n    <tr>\n      <th>app/javascript/mastodon/locales/gl.json</th>\n      <td>gl.json</td>\n      <td>/Users/uzh/Library/CloudStorage/OneDrive-Unive...</td>\n      <td>549.0</td>\n      <td>42</td>\n      <td>1</td>\n    </tr>\n    <tr>\n      <th>app/javascript/mastodon/locales/vi.json</th>\n      <td>vi.json</td>\n      <td>/Users/uzh/Library/CloudStorage/OneDrive-Unive...</td>\n      <td>549.0</td>\n      <td>42</td>\n      <td>1</td>\n    </tr>\n    <tr>\n      <th>app/javascript/mastodon/locales/th.json</th>\n      <td>th.json</td>\n      <td>/Users/uzh/Library/CloudStorage/OneDrive-Unive...</td>\n      <td>549.0</td>\n      <td>42</td>\n      <td>1</td>\n    </tr>\n    <tr>\n      <th>app/javascript/mastodon/locales/ko.json</th>\n      <td>ko.json</td>\n      <td>/Users/uzh/Library/CloudStorage/OneDrive-Unive...</td>\n      <td>549.0</td>\n      <td>41</td>\n      <td>1</td>\n    </tr>\n    <tr>\n      <th>app/models/status.rb</th>\n      <td>status.rb</td>\n      <td>/Users/uzh/Library/CloudStorage/OneDrive-Unive...</td>\n      <td>523.0</td>\n      <td>41</td>\n      <td>8</td>\n    </tr>\n    <tr>\n      <th>app/javascript/mastodon/locales/ru.json</th>\n      <td>ru.json</td>\n      <td>/Users/uzh/Library/CloudStorage/OneDrive-Unive...</td>\n      <td>549.0</td>\n      <td>40</td>\n      <td>1</td>\n    </tr>\n    <tr>\n      <th>app/javascript/mastodon/locales/fr.json</th>\n      <td>fr.json</td>\n      <td>/Users/uzh/Library/CloudStorage/OneDrive-Unive...</td>\n      <td>549.0</td>\n      <td>40</td>\n      <td>1</td>\n    </tr>\n    <tr>\n      <th>app/javascript/mastodon/locales/ca.json</th>\n      <td>ca.json</td>\n      <td>/Users/uzh/Library/CloudStorage/OneDrive-Unive...</td>\n      <td>549.0</td>\n      <td>40</td>\n      <td>1</td>\n    </tr>\n    <tr>\n      <th>app/javascript/mastodon/locales/es.json</th>\n      <td>es.json</td>\n      <td>/Users/uzh/Library/CloudStorage/OneDrive-Unive...</td>\n      <td>549.0</td>\n      <td>38</td>\n      <td>1</td>\n    </tr>\n    <tr>\n      <th>app/javascript/mastodon/locales/tr.json</th>\n      <td>tr.json</td>\n      <td>/Users/uzh/Library/CloudStorage/OneDrive-Unive...</td>\n      <td>549.0</td>\n      <td>37</td>\n      <td>1</td>\n    </tr>\n    <tr>\n      <th>app/javascript/mastodon/locales/ml.json</th>\n      <td>ml.json</td>\n      <td>/Users/uzh/Library/CloudStorage/OneDrive-Unive...</td>\n      <td>549.0</td>\n      <td>37</td>\n      <td>1</td>\n    </tr>\n    <tr>\n      <th>app/javascript/mastodon/locales/pt-PT.json</th>\n      <td>pt-PT.json</td>\n      <td>/Users/uzh/Library/CloudStorage/OneDrive-Unive...</td>\n      <td>549.0</td>\n      <td>37</td>\n      <td>1</td>\n    </tr>\n    <tr>\n      <th>app/javascript/mastodon/locales/cs.json</th>\n      <td>cs.json</td>\n      <td>/Users/uzh/Library/CloudStorage/OneDrive-Unive...</td>\n      <td>549.0</td>\n      <td>37</td>\n      <td>1</td>\n    </tr>\n    <tr>\n      <th>app/models/user.rb</th>\n      <td>user.rb</td>\n      <td>/Users/uzh/Library/CloudStorage/OneDrive-Unive...</td>\n      <td>475.0</td>\n      <td>37</td>\n      <td>9</td>\n    </tr>\n  </tbody>\n</table>\n</div>"
     },
     "metadata": {},
     "output_type": "display_data"
    }
   ],
   "source": [
    "display(analysis_df.sort_values(by=['Amount of changes','Complexity'], ascending=False)[:20])"
   ],
   "metadata": {
    "collapsed": false
   }
  },
  {
   "cell_type": "markdown",
   "source": [
    "8. Analyze six candidate hotspots (not necessarily the top ones) through:"
   ],
   "metadata": {
    "collapsed": false
   }
  },
  {
   "cell_type": "code",
   "execution_count": null,
   "outputs": [],
   "source": [
    "\"\"\"\n",
    "computes the complextity trends for a list of file paths\n",
    "return: dictionary with paths as key and a list containing a complexity measurements from oldest to newest commit as value\n",
    "\"\"\"\n",
    "def compute_complexity_trends(file_paths):\n",
    "    complexity_trends = {path: [] for path in file_paths}\n",
    "    commit_paths = {path:path for path in file_paths} #For tracking the path that a file has in the current commit if it was moved\n",
    "\n",
    "    for commit in reversed(list(repo.traverse_commits())):#TODO: use whole list\n",
    "        git.checkout(commit.hash)\n",
    "\n",
    "        #add trend values for current commit\n",
    "        for key_path, value_path in commit_paths.items():\n",
    "            try:\n",
    "                full_path = subdirectory_prefix+value_path\n",
    "                with open(full_path, 'r') as file:\n",
    "                    complexity_trends[key_path].insert(0,len(file.readlines()))\n",
    "            except Exception as e:\n",
    "                print(\"Issue with complexity trend computation: \", e)\n",
    "\n",
    "        #update commit paths\n",
    "        for file in commit.modified_files:\n",
    "            for key_path, value_path in commit_paths.items():\n",
    "                if value_path==file.new_path:\n",
    "                    commit_paths[key_path]=file.old_path\n",
    "\n",
    "    git.checkout(tag.hash) #return to initial checkout\n",
    "    return complexity_trends"
   ],
   "metadata": {
    "collapsed": false
   }
  },
  {
   "cell_type": "code",
   "execution_count": null,
   "outputs": [],
   "source": [
    "hotspot_candidates = [\n",
    "    'app/javascript/fonts/roboto/roboto-medium-webfont.svg', #Complexity outlier, never changes\n",
    "    'app/models/status.rb', #Very high change rate somewhat high complexity\n",
    "    'app/javascript/styles/mastodon/components.scss', #Very high complexity, very high amount of changes\n",
    "    'app/javascript/mastodon/locales/ca.json',\n",
    "    'app/helpers/application_helper.rb',\n",
    "    'app/services/activitypub/process_status_update_service.rb']\n",
    "complexity_trends = compute_complexity_trends(hotspot_candidates)"
   ],
   "metadata": {
    "collapsed": false,
    "pycharm": {
     "name": "#%% Compute trends and add to dataframe\n"
    }
   }
  },
  {
   "cell_type": "code",
   "execution_count": null,
   "outputs": [],
   "source": [
    "def plot_complexity_trend(index):\n",
    "    label, complexity_list = list(complexity_trends.items())[index]\n",
    "    commits_num = list(range(len(complexity_list)))\n",
    "    complexity_trend_line = px.line(x=commits_num, y=complexity_list, title=f\"Complexity trend for {label}\",\n",
    "                                    labels={'x': 'number of commits', 'y': 'complexity [LOC]'})\n",
    "    complexity_trend_line.show()\n",
    "    print(f\"Final complexity: {int(analysis_df['Complexity'][label])} LOC\" )\n",
    "    print(f\"Amount of changes: {analysis_df['Amount of changes'][label]}\" )"
   ],
   "metadata": {
    "collapsed": false,
    "pycharm": {
     "name": "#%% Visualize trends\n"
    }
   }
  },
  {
   "cell_type": "markdown",
   "source": [
    "Candidate 1: app/javascript/fonts/roboto/roboto-medium-webfont.svg\n",
    "\n",
    "The 'roboto-medium-webfont.svg' file is an extreme outlier. It has very high complexity and never changes.\n",
    "From the file name we can easily see that it is not a troublesome hotspot.\n",
    "The file needs to have a lot of lines of code because it defines the shape of characters from a font.\n",
    "None of these lines ever need to change though. It is not a hotspot and we do not need to take any action."
   ],
   "metadata": {
    "collapsed": false
   }
  },
  {
   "cell_type": "code",
   "execution_count": null,
   "outputs": [],
   "source": [
    "plot_complexity_trend(0)\n"
   ],
   "metadata": {
    "collapsed": false
   }
  },
  {
   "cell_type": "markdown",
   "source": [
    "Candidate 2: app/models/status.rb\n",
    "\n",
    "From the trend we see that the complexity increased gradually, with some decreases inbetween.\n",
    "Presumably these are refactorings, indicating that the file does indeed require some maintenance work."
   ],
   "metadata": {
    "collapsed": false
   }
  },
  {
   "cell_type": "code",
   "execution_count": null,
   "outputs": [],
   "source": [
    "plot_complexity_trend(1)"
   ],
   "metadata": {
    "collapsed": false
   }
  },
  {
   "cell_type": "markdown",
   "source": [
    "Candidate 3: app/javascript/styles/mastodon/components.scss"
   ],
   "metadata": {
    "collapsed": false
   }
  },
  {
   "cell_type": "code",
   "execution_count": null,
   "outputs": [],
   "source": [
    "plot_complexity_trend(2)"
   ],
   "metadata": {
    "collapsed": false
   }
  },
  {
   "cell_type": "markdown",
   "source": [
    "Candidate 4: app/javascript/mastodon/locales/ca.json"
   ],
   "metadata": {
    "collapsed": false
   }
  },
  {
   "cell_type": "code",
   "execution_count": null,
   "outputs": [],
   "source": [
    "plot_complexity_trend(3)"
   ],
   "metadata": {
    "collapsed": false
   }
  },
  {
   "cell_type": "markdown",
   "source": [
    "Candidate 5: app/helpers/application_helper.rb"
   ],
   "metadata": {
    "collapsed": false
   }
  },
  {
   "cell_type": "code",
   "execution_count": null,
   "outputs": [],
   "source": [
    "plot_complexity_trend(4)"
   ],
   "metadata": {
    "collapsed": false
   }
  },
  {
   "cell_type": "markdown",
   "source": [
    "Candidate 6: app/services/activitypub/process_status_update_service.rb"
   ],
   "metadata": {
    "collapsed": false
   }
  },
  {
   "cell_type": "code",
   "execution_count": null,
   "outputs": [],
   "source": [
    "plot_complexity_trend(5)"
   ],
   "metadata": {
    "collapsed": false
   }
  },
  {
   "cell_type": "markdown",
   "source": [
    "## 2 Temporal/Logical Coupling"
   ],
   "metadata": {
    "collapsed": false
   }
  },
  {
   "cell_type": "markdown",
   "source": [
    "1. Determine what could be cases of temporal/logical coupling and generate a list\n",
    "of candidates with a set of coupled entities."
   ]
  },
  {
   "cell_type": "markdown",
   "metadata": {},
   "source": [
    "In this analysis we consider logical grouping by commits.\n",
    "According to the [guidelines for pull requrests](https://github.com/mastodon/mastodon/blob/97f657f8181dc24f6c30b6e9f0ce52df827ac90f/CONTRIBUTING.md#pull-requests),\n",
    "small pull requests should be preferred, thus it is assumed that they contain only the necessary changes for one \"Add\", \"Change\", \"Deprecate\", \"Remove\" or \"Fix\",\n",
    "and can be viewed as logically grouped. To merge the pull request, a squash commit is added to the main branch. So for this analysis we can use the commits\n",
    "on the main branch to detect logical coupling between files."
   ]
  },
  {
   "cell_type": "markdown",
   "metadata": {},
   "source": [
    "Here the sets of logically coupled is created."
   ]
  },
  {
   "cell_type": "code",
   "execution_count": null,
   "metadata": {},
   "outputs": [],
   "source": [
    "from pandas import DataFrame\n",
    "from collections import Counter\n",
    "from typing import List\n",
    "from dataclasses import dataclass\n",
    "\n",
    "\n",
    "@dataclass\n",
    "class ChangeSet:\n",
    "    files: List[str]\n",
    "\n",
    "    def __init__(self, files: List[str]):\n",
    "        self.files=sorted(files)\n",
    "\n",
    "    def __hash__(self) -> int:\n",
    "        return hash(\", \".join(self.files))\n",
    "\n",
    "    def __eq__(self, o: object) -> bool:\n",
    "        if not isinstance(o, ChangeSet):\n",
    "            return False\n",
    "        # noinspection PyUnresolvedReferences\n",
    "        return self.files == o.files\n",
    "\n",
    "    def to_tuple(self, nr_of_changes: int):\n",
    "        return self.files[0], self.files[1], nr_of_changes\n",
    "\n",
    "changed_together_filename = './changed_together.csv'\n",
    "\n",
    "col_name_nr_changed_together = 'nr_changed_together'\n",
    "changed_together_columns = ['file1', 'file2', col_name_nr_changed_together]\n",
    "dataframe_changed_together = DataFrame([], columns=changed_together_columns)\n",
    "\n",
    "if not path.exists(changed_together_filename):\n",
    "    files_changed_together = []\n",
    "    for commit in reversed(list(repo.traverse_commits())):\n",
    "        for file in commit.modified_files:\n",
    "            for changed_together in commit.modified_files:\n",
    "                if file.new_path is None or changed_together.new_path is None:\n",
    "                    continue\n",
    "                if not file.new_path == changed_together.new_path:\n",
    "                    files_changed_together.append(ChangeSet([file.new_path, changed_together.new_path]))\n",
    "    counter = Counter(files_changed_together)\n",
    "    changed_together_tuples = [change_set.to_tuple(nr_of_changes / 2) for change_set, nr_of_changes in counter.items()]\n",
    "    dataframe_changed_together = DataFrame(changed_together_tuples, columns=changed_together_columns)\n",
    "    dataframe_changed_together = dataframe_changed_together.sort_values(by=col_name_nr_changed_together, ascending=False)\n",
    "    dataframe_changed_together.to_csv(changed_together_filename)\n",
    "\n",
    "dataframe_changed_together = pd.read_csv(changed_together_filename, index_col=[0,1])\n",
    "\n",
    "\n",
    "\n",
    "print(f'most common changed together:')\n",
    "display(dataframe_changed_together[:10])"
   ]
  },
  {
   "cell_type": "markdown",
   "metadata": {},
   "source": [
    "As expected, the locales change often together. Thus we need to remove the locales from the analysis."
   ]
  },
  {
   "cell_type": "code",
   "execution_count": null,
   "metadata": {},
   "outputs": [],
   "source": [
    "allowed_file_endings = ['.rb', '.js', '.haml', '.erb']\n",
    "\n",
    "def contains_allowed_file_type(change_set: List) -> bool:\n",
    "    for file in change_set:\n",
    "        ending = path.splitext(file)[1]\n",
    "        if allowed_file_endings.__contains__(ending):\n",
    "            return True\n",
    "    return False\n",
    "\n",
    "changed_together_filtered = [(row[1], row[2], row[3]) for row in dataframe_changed_together.to_records(index=True) if contains_allowed_file_type([row[1], row[2]])]\n",
    "dataframe_changed_together_filtered = DataFrame(changed_together_filtered, columns=changed_together_columns)\n",
    "\n",
    "display(dataframe_changed_together_filtered[:10])"
   ]
  },
  {
   "cell_type": "markdown",
   "metadata": {},
   "source": [
    "2. Visualize these candidate sets of couple entities with a visualization of your\n",
    "choice."
   ]
  },
  {
   "cell_type": "code",
   "execution_count": null,
   "metadata": {},
   "outputs": [],
   "source": [
    "complexity_hist = px.histogram(dataframe_changed_together_filtered, x='nr_changed_together', log_y=True)\n",
    "complexity_hist.update_layout(font_size=18)\n",
    "complexity_hist.show()"
   ]
  },
  {
   "cell_type": "code",
   "execution_count": null,
   "outputs": [],
   "source": [
    "list_for_bar_plot = [(f'{row[1]} +  {row[2]}', row[3]) for row in dataframe_changed_together_filtered.to_records(index=True)]\n",
    "dataframe_for_bar_plot = DataFrame(list_for_bar_plot, columns=['files', col_name_nr_changed_together])\n",
    "\n",
    "bar = px.bar(dataframe_for_bar_plot[:20], x=col_name_nr_changed_together, y='files')\n",
    "bar.update_layout(font_size=18)\n",
    "bar.show()"
   ],
   "metadata": {
    "collapsed": false
   }
  },
  {
   "cell_type": "markdown",
   "source": [
    "3. For three set candidates in the list:\n",
    "• analyze and explain why these entities are coupled;\n",
    "• describe how important it would be to fix them, and any ideas for their\n",
    "improvement."
   ],
   "metadata": {
    "collapsed": false
   }
  },
  {
   "cell_type": "markdown",
   "source": [
    "Canditate set 1:"
   ],
   "metadata": {
    "collapsed": false
   }
  },
  {
   "cell_type": "markdown",
   "source": [
    "Canditate set 2:"
   ],
   "metadata": {
    "collapsed": false
   }
  },
  {
   "cell_type": "markdown",
   "source": [
    "Candidate set 3:"
   ],
   "metadata": {
    "collapsed": false
   }
  },
  {
   "cell_type": "markdown",
   "source": [
    "## 3 Defective Hotspots"
   ],
   "metadata": {
    "collapsed": false
   }
  },
  {
   "cell_type": "markdown",
   "source": [
    "1. Decide on how you want to detect entities that had defects in the past (e.g.,\n",
    "commit message analysis vs. issue tracking system analysis) and motivate your\n",
    "choice.\n",
    "\n",
    "We decided to look at commit messages. Whenever a file was changed in a commit with message that contains a string like \"bug\" or \"fix\" (see \"indicator_list\" below), we increment a counter for that file."
   ],
   "metadata": {
    "collapsed": false
   }
  },
  {
   "cell_type": "markdown",
   "source": [
    "2. Determine defective hotspots among the entities in the timeframe that you pre-\n",
    "viously selected (i.e., consider only defects in the selected timeframe). What\n",
    "conclusions can you draw from this?\n"
   ],
   "metadata": {
    "collapsed": false
   }
  },
  {
   "cell_type": "code",
   "execution_count": 55,
   "outputs": [
    {
     "ename": "KeyboardInterrupt",
     "evalue": "",
     "output_type": "error",
     "traceback": [
      "\u001B[0;31m---------------------------------------------------------------------------\u001B[0m",
      "\u001B[0;31mKeyboardInterrupt\u001B[0m                         Traceback (most recent call last)",
      "Cell \u001B[0;32mIn [55], line 10\u001B[0m\n\u001B[1;32m      8\u001B[0m \u001B[38;5;28;01mfor\u001B[39;00m commit \u001B[38;5;129;01min\u001B[39;00m \u001B[38;5;28mreversed\u001B[39m(\u001B[38;5;28mlist\u001B[39m(repo\u001B[38;5;241m.\u001B[39mtraverse_commits())):\n\u001B[1;32m      9\u001B[0m     fixes_bug \u001B[38;5;241m=\u001B[39m \u001B[38;5;28many\u001B[39m([indicator \u001B[38;5;129;01min\u001B[39;00m commit\u001B[38;5;241m.\u001B[39mmsg\u001B[38;5;241m.\u001B[39mlower() \u001B[38;5;28;01mfor\u001B[39;00m indicator \u001B[38;5;129;01min\u001B[39;00m indictor_list])\n\u001B[0;32m---> 10\u001B[0m     \u001B[38;5;28;01mfor\u001B[39;00m file \u001B[38;5;129;01min\u001B[39;00m \u001B[43mcommit\u001B[49m\u001B[38;5;241;43m.\u001B[39;49m\u001B[43mmodified_files\u001B[49m:\n\u001B[1;32m     11\u001B[0m         idx \u001B[38;5;241m=\u001B[39m analysis_df[analysis_df[\u001B[38;5;124m'\u001B[39m\u001B[38;5;124mCommitPath\u001B[39m\u001B[38;5;124m'\u001B[39m]\u001B[38;5;241m==\u001B[39mfile\u001B[38;5;241m.\u001B[39mnew_path]\u001B[38;5;241m.\u001B[39mindex\n\u001B[1;32m     12\u001B[0m         analysis_df\u001B[38;5;241m.\u001B[39mloc[idx, \u001B[38;5;124m'\u001B[39m\u001B[38;5;124mCommitPath\u001B[39m\u001B[38;5;124m'\u001B[39m] \u001B[38;5;241m=\u001B[39m file\u001B[38;5;241m.\u001B[39mold_path \u001B[38;5;66;03m#update commit path\u001B[39;00m\n",
      "File \u001B[0;32m~/Library/CloudStorage/OneDrive-UniversitätZürichUZH/Uni/Master 3/Fundamentals of Software Systems/Exercise/05/git_repo/fund-soft-systems-analyse-mastodon/venv/lib/python3.8/site-packages/pydriller/domain/commit.py:667\u001B[0m, in \u001B[0;36mCommit.modified_files\u001B[0;34m(self)\u001B[0m\n\u001B[1;32m    658\u001B[0m \u001B[38;5;124;03m\"\"\"\u001B[39;00m\n\u001B[1;32m    659\u001B[0m \u001B[38;5;124;03mReturn a list of modified files. The list is empty if the commit is\u001B[39;00m\n\u001B[1;32m    660\u001B[0m \u001B[38;5;124;03ma merge commit. For more info on this, see\u001B[39;00m\n\u001B[0;32m   (...)\u001B[0m\n\u001B[1;32m    664\u001B[0m \u001B[38;5;124;03m:return: List[Modification] modifications\u001B[39;00m\n\u001B[1;32m    665\u001B[0m \u001B[38;5;124;03m\"\"\"\u001B[39;00m\n\u001B[1;32m    666\u001B[0m \u001B[38;5;28;01mif\u001B[39;00m \u001B[38;5;28mself\u001B[39m\u001B[38;5;241m.\u001B[39m_modified_files \u001B[38;5;129;01mis\u001B[39;00m \u001B[38;5;28;01mNone\u001B[39;00m:\n\u001B[0;32m--> 667\u001B[0m     \u001B[38;5;28mself\u001B[39m\u001B[38;5;241m.\u001B[39m_modified_files \u001B[38;5;241m=\u001B[39m \u001B[38;5;28;43mself\u001B[39;49m\u001B[38;5;241;43m.\u001B[39;49m\u001B[43m_get_modified_files\u001B[49m\u001B[43m(\u001B[49m\u001B[43m)\u001B[49m\n\u001B[1;32m    669\u001B[0m \u001B[38;5;28;01massert\u001B[39;00m \u001B[38;5;28mself\u001B[39m\u001B[38;5;241m.\u001B[39m_modified_files \u001B[38;5;129;01mis\u001B[39;00m \u001B[38;5;129;01mnot\u001B[39;00m \u001B[38;5;28;01mNone\u001B[39;00m\n\u001B[1;32m    670\u001B[0m \u001B[38;5;28;01mreturn\u001B[39;00m \u001B[38;5;28mself\u001B[39m\u001B[38;5;241m.\u001B[39m_modified_files\n",
      "File \u001B[0;32m~/Library/CloudStorage/OneDrive-UniversitätZürichUZH/Uni/Master 3/Fundamentals of Software Systems/Exercise/05/git_repo/fund-soft-systems-analyse-mastodon/venv/lib/python3.8/site-packages/pydriller/domain/commit.py:682\u001B[0m, in \u001B[0;36mCommit._get_modified_files\u001B[0;34m(self)\u001B[0m\n\u001B[1;32m    678\u001B[0m     options[\u001B[38;5;124m\"\u001B[39m\u001B[38;5;124mw\u001B[39m\u001B[38;5;124m\"\u001B[39m] \u001B[38;5;241m=\u001B[39m \u001B[38;5;28;01mTrue\u001B[39;00m\n\u001B[1;32m    680\u001B[0m \u001B[38;5;28;01mif\u001B[39;00m \u001B[38;5;28mlen\u001B[39m(\u001B[38;5;28mself\u001B[39m\u001B[38;5;241m.\u001B[39mparents) \u001B[38;5;241m==\u001B[39m \u001B[38;5;241m1\u001B[39m:\n\u001B[1;32m    681\u001B[0m     \u001B[38;5;66;03m# the commit has a parent\u001B[39;00m\n\u001B[0;32m--> 682\u001B[0m     diff_index \u001B[38;5;241m=\u001B[39m \u001B[38;5;28;43mself\u001B[39;49m\u001B[38;5;241;43m.\u001B[39;49m\u001B[43m_c_object\u001B[49m\u001B[38;5;241;43m.\u001B[39;49m\u001B[43mparents\u001B[49m\u001B[43m[\u001B[49m\u001B[38;5;241;43m0\u001B[39;49m\u001B[43m]\u001B[49m\u001B[38;5;241;43m.\u001B[39;49m\u001B[43mdiff\u001B[49m\u001B[43m(\u001B[49m\n\u001B[1;32m    683\u001B[0m \u001B[43m        \u001B[49m\u001B[38;5;28;43mself\u001B[39;49m\u001B[38;5;241;43m.\u001B[39;49m\u001B[43m_c_object\u001B[49m\u001B[43m,\u001B[49m\u001B[43m \u001B[49m\u001B[43mcreate_patch\u001B[49m\u001B[38;5;241;43m=\u001B[39;49m\u001B[38;5;28;43;01mTrue\u001B[39;49;00m\u001B[43m,\u001B[49m\u001B[43m \u001B[49m\u001B[38;5;241;43m*\u001B[39;49m\u001B[38;5;241;43m*\u001B[39;49m\u001B[43moptions\u001B[49m\n\u001B[1;32m    684\u001B[0m \u001B[43m    \u001B[49m\u001B[43m)\u001B[49m\n\u001B[1;32m    685\u001B[0m \u001B[38;5;28;01melif\u001B[39;00m \u001B[38;5;28mlen\u001B[39m(\u001B[38;5;28mself\u001B[39m\u001B[38;5;241m.\u001B[39mparents) \u001B[38;5;241m>\u001B[39m \u001B[38;5;241m1\u001B[39m:\n\u001B[1;32m    686\u001B[0m     \u001B[38;5;66;03m# if it's a merge commit, the modified files of the commit are the\u001B[39;00m\n\u001B[1;32m    687\u001B[0m     \u001B[38;5;66;03m# conflicts. This because if the file is not in conflict,\u001B[39;00m\n\u001B[0;32m   (...)\u001B[0m\n\u001B[1;32m    694\u001B[0m     \u001B[38;5;66;03m# d = c_git.diff_tree(\"--cc\", commit.hexsha, '-r', '--abbrev=40',\u001B[39;00m\n\u001B[1;32m    695\u001B[0m     \u001B[38;5;66;03m#                     '--full-index', '-M', '-p', '--no-color')\u001B[39;00m\n\u001B[1;32m    696\u001B[0m     diff_index \u001B[38;5;241m=\u001B[39m []\n",
      "File \u001B[0;32m~/Library/CloudStorage/OneDrive-UniversitätZürichUZH/Uni/Master 3/Fundamentals of Software Systems/Exercise/05/git_repo/fund-soft-systems-analyse-mastodon/venv/lib/python3.8/site-packages/git/diff.py:188\u001B[0m, in \u001B[0;36mDiffable.diff\u001B[0;34m(self, other, paths, create_patch, **kwargs)\u001B[0m\n\u001B[1;32m    185\u001B[0m proc \u001B[38;5;241m=\u001B[39m diff_cmd(\u001B[38;5;241m*\u001B[39m\u001B[38;5;28mself\u001B[39m\u001B[38;5;241m.\u001B[39m_process_diff_args(args), \u001B[38;5;241m*\u001B[39m\u001B[38;5;241m*\u001B[39mkwargs)\n\u001B[1;32m    187\u001B[0m diff_method \u001B[38;5;241m=\u001B[39m Diff\u001B[38;5;241m.\u001B[39m_index_from_patch_format \u001B[38;5;28;01mif\u001B[39;00m create_patch \u001B[38;5;28;01melse\u001B[39;00m Diff\u001B[38;5;241m.\u001B[39m_index_from_raw_format\n\u001B[0;32m--> 188\u001B[0m index \u001B[38;5;241m=\u001B[39m \u001B[43mdiff_method\u001B[49m\u001B[43m(\u001B[49m\u001B[38;5;28;43mself\u001B[39;49m\u001B[38;5;241;43m.\u001B[39;49m\u001B[43mrepo\u001B[49m\u001B[43m,\u001B[49m\u001B[43m \u001B[49m\u001B[43mproc\u001B[49m\u001B[43m)\u001B[49m\n\u001B[1;32m    190\u001B[0m proc\u001B[38;5;241m.\u001B[39mwait()\n\u001B[1;32m    191\u001B[0m \u001B[38;5;28;01mreturn\u001B[39;00m index\n",
      "File \u001B[0;32m~/Library/CloudStorage/OneDrive-UniversitätZürichUZH/Uni/Master 3/Fundamentals of Software Systems/Exercise/05/git_repo/fund-soft-systems-analyse-mastodon/venv/lib/python3.8/site-packages/git/diff.py:494\u001B[0m, in \u001B[0;36mDiff._index_from_patch_format\u001B[0;34m(cls, repo, proc)\u001B[0m\n\u001B[1;32m    492\u001B[0m \u001B[38;5;66;03m## FIXME: Here SLURPING raw, need to re-phrase header-regexes linewise.\u001B[39;00m\n\u001B[1;32m    493\u001B[0m text_list: List[\u001B[38;5;28mbytes\u001B[39m] \u001B[38;5;241m=\u001B[39m []\n\u001B[0;32m--> 494\u001B[0m \u001B[43mhandle_process_output\u001B[49m\u001B[43m(\u001B[49m\u001B[43mproc\u001B[49m\u001B[43m,\u001B[49m\u001B[43m \u001B[49m\u001B[43mtext_list\u001B[49m\u001B[38;5;241;43m.\u001B[39;49m\u001B[43mappend\u001B[49m\u001B[43m,\u001B[49m\u001B[43m \u001B[49m\u001B[38;5;28;43;01mNone\u001B[39;49;00m\u001B[43m,\u001B[49m\u001B[43m \u001B[49m\u001B[43mfinalize_process\u001B[49m\u001B[43m,\u001B[49m\u001B[43m \u001B[49m\u001B[43mdecode_streams\u001B[49m\u001B[38;5;241;43m=\u001B[39;49m\u001B[38;5;28;43;01mFalse\u001B[39;49;00m\u001B[43m)\u001B[49m\n\u001B[1;32m    496\u001B[0m \u001B[38;5;66;03m# for now, we have to bake the stream\u001B[39;00m\n\u001B[1;32m    497\u001B[0m text \u001B[38;5;241m=\u001B[39m \u001B[38;5;124mb\u001B[39m\u001B[38;5;124m\"\u001B[39m\u001B[38;5;124m\"\u001B[39m\u001B[38;5;241m.\u001B[39mjoin(text_list)\n",
      "File \u001B[0;32m~/Library/CloudStorage/OneDrive-UniversitätZürichUZH/Uni/Master 3/Fundamentals of Software Systems/Exercise/05/git_repo/fund-soft-systems-analyse-mastodon/venv/lib/python3.8/site-packages/git/cmd.py:173\u001B[0m, in \u001B[0;36mhandle_process_output\u001B[0;34m(process, stdout_handler, stderr_handler, finalizer, decode_streams, kill_after_timeout)\u001B[0m\n\u001B[1;32m    170\u001B[0m threads: List[threading\u001B[38;5;241m.\u001B[39mThread] \u001B[38;5;241m=\u001B[39m []\n\u001B[1;32m    172\u001B[0m \u001B[38;5;28;01mfor\u001B[39;00m name, stream, handler \u001B[38;5;129;01min\u001B[39;00m pumps:\n\u001B[0;32m--> 173\u001B[0m     t \u001B[38;5;241m=\u001B[39m \u001B[43mthreading\u001B[49m\u001B[38;5;241;43m.\u001B[39;49m\u001B[43mThread\u001B[49m\u001B[43m(\u001B[49m\u001B[43mtarget\u001B[49m\u001B[38;5;241;43m=\u001B[39;49m\u001B[43mpump_stream\u001B[49m\u001B[43m,\u001B[49m\u001B[43m \u001B[49m\u001B[43margs\u001B[49m\u001B[38;5;241;43m=\u001B[39;49m\u001B[43m(\u001B[49m\u001B[43mcmdline\u001B[49m\u001B[43m,\u001B[49m\u001B[43m \u001B[49m\u001B[43mname\u001B[49m\u001B[43m,\u001B[49m\u001B[43m \u001B[49m\u001B[43mstream\u001B[49m\u001B[43m,\u001B[49m\u001B[43m \u001B[49m\u001B[43mdecode_streams\u001B[49m\u001B[43m,\u001B[49m\u001B[43m \u001B[49m\u001B[43mhandler\u001B[49m\u001B[43m)\u001B[49m\u001B[43m)\u001B[49m\n\u001B[1;32m    174\u001B[0m     t\u001B[38;5;241m.\u001B[39mdaemon \u001B[38;5;241m=\u001B[39m \u001B[38;5;28;01mTrue\u001B[39;00m\n\u001B[1;32m    175\u001B[0m     t\u001B[38;5;241m.\u001B[39mstart()\n",
      "File \u001B[0;32m/Library/Frameworks/Python.framework/Versions/3.8/lib/python3.8/threading.py:799\u001B[0m, in \u001B[0;36mThread.__init__\u001B[0;34m(self, group, target, name, args, kwargs, daemon)\u001B[0m\n\u001B[1;32m    797\u001B[0m     \u001B[38;5;28mself\u001B[39m\u001B[38;5;241m.\u001B[39m_native_id \u001B[38;5;241m=\u001B[39m \u001B[38;5;28;01mNone\u001B[39;00m\n\u001B[1;32m    798\u001B[0m \u001B[38;5;28mself\u001B[39m\u001B[38;5;241m.\u001B[39m_tstate_lock \u001B[38;5;241m=\u001B[39m \u001B[38;5;28;01mNone\u001B[39;00m\n\u001B[0;32m--> 799\u001B[0m \u001B[38;5;28mself\u001B[39m\u001B[38;5;241m.\u001B[39m_started \u001B[38;5;241m=\u001B[39m \u001B[43mEvent\u001B[49m\u001B[43m(\u001B[49m\u001B[43m)\u001B[49m\n\u001B[1;32m    800\u001B[0m \u001B[38;5;28mself\u001B[39m\u001B[38;5;241m.\u001B[39m_is_stopped \u001B[38;5;241m=\u001B[39m \u001B[38;5;28;01mFalse\u001B[39;00m\n\u001B[1;32m    801\u001B[0m \u001B[38;5;28mself\u001B[39m\u001B[38;5;241m.\u001B[39m_initialized \u001B[38;5;241m=\u001B[39m \u001B[38;5;28;01mTrue\u001B[39;00m\n",
      "File \u001B[0;32m/Library/Frameworks/Python.framework/Versions/3.8/lib/python3.8/threading.py:506\u001B[0m, in \u001B[0;36mEvent.__init__\u001B[0;34m(self)\u001B[0m\n\u001B[1;32m    505\u001B[0m \u001B[38;5;28;01mdef\u001B[39;00m \u001B[38;5;21m__init__\u001B[39m(\u001B[38;5;28mself\u001B[39m):\n\u001B[0;32m--> 506\u001B[0m     \u001B[38;5;28mself\u001B[39m\u001B[38;5;241m.\u001B[39m_cond \u001B[38;5;241m=\u001B[39m Condition(\u001B[43mLock\u001B[49m\u001B[43m(\u001B[49m\u001B[43m)\u001B[49m)\n\u001B[1;32m    507\u001B[0m     \u001B[38;5;28mself\u001B[39m\u001B[38;5;241m.\u001B[39m_flag \u001B[38;5;241m=\u001B[39m \u001B[38;5;28;01mFalse\u001B[39;00m\n",
      "\u001B[0;31mKeyboardInterrupt\u001B[0m: "
     ]
    }
   ],
   "source": [
    "indictor_list = [\"fix\", \"bug\"]\n",
    "if True:#not 'Defects' in analysis_df: #check if we have already saved the results\n",
    "\n",
    "    #Compute defect count\n",
    "    analysis_df['CommitPath'] = analysis_df.index #For tracking the path that a file has in the current commit if it was moved\n",
    "    analysis_df['Defects'] = 0 #set change counter to 0\n",
    "\n",
    "    for commit in reversed(list(repo.traverse_commits())):\n",
    "        fixes_bug = any([indicator in commit.msg.lower() for indicator in indictor_list])\n",
    "        for file in commit.modified_files:\n",
    "            idx = analysis_df[analysis_df['CommitPath']==file.new_path].index\n",
    "            analysis_df.loc[idx, 'CommitPath'] = file.old_path #update commit path\n",
    "            if fixes_bug:\n",
    "                analysis_df.loc[idx, 'Defects'] += 1\n",
    "\n",
    "    analysis_df.drop(columns='CommitPath', inplace=True) #get rid of temporary indexing\n",
    "    analysis_df.to_csv(path_to_results)\n",
    "\n",
    "analysis_df['Defects'].sort_values(ascending=False)[:10] #Print top 10 entries"
   ],
   "metadata": {
    "collapsed": false
   }
  },
  {
   "cell_type": "markdown",
   "source": [
    "3. Determine complexity hotspots at the beginning of your timeframe, then corre-\n",
    "late them with the defects they have presented throughout the entire timeframe.\n",
    "Is there a correlation? Why do you think this is the case?"
   ],
   "metadata": {
    "collapsed": false
   }
  },
  {
   "cell_type": "markdown",
   "source": [
    "4. What conclusions can you draw from the relationship between defective hotspots\n",
    "and complexity hotspots in Mastodon? And on these two metrics in general?\n"
   ],
   "metadata": {
    "collapsed": false
   }
  }
 ],
 "metadata": {
  "kernelspec": {
   "display_name": "Python 3 (ipykernel)",
   "language": "python",
   "name": "python3"
  },
  "language_info": {
   "codemirror_mode": {
    "name": "ipython",
    "version": 3
   },
   "file_extension": ".py",
   "mimetype": "text/x-python",
   "name": "python",
   "nbconvert_exporter": "python",
   "pygments_lexer": "ipython3",
   "version": "3.10.6"
  }
 },
 "nbformat": 4,
 "nbformat_minor": 1
}
