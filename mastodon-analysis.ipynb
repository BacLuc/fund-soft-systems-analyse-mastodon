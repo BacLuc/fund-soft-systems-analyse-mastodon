{
 "cells": [
  {
   "cell_type": "markdown",
   "metadata": {},
   "source": [
    "# Fundamentals of Software Systems - SE Part I Assignment\n",
    "\n",
    "By Andy Wiemeyer and Lucius Bachmann"
   ]
  },
  {
   "cell_type": "markdown",
   "source": [
    "### Setup tools\n",
    "* checkout repo\n",
    "* initialize Git utility\n",
    "* You can recreate the Repository object with other parameters to analyze different time periods.\n",
    "  The last year was used that the setup is fast."
   ],
   "metadata": {
    "collapsed": false
   }
  },
  {
   "cell_type": "code",
   "execution_count": null,
   "metadata": {},
   "outputs": [],
   "source": [
    "from datetime import datetime\n",
    "from pydriller import Repository, Git\n",
    "from os import path, mkdir\n",
    "\n",
    "repo_remote_path = 'https://github.com/mastodon/mastodon.git'\n",
    "repo_path = 'mastodon'\n",
    "repo_checkout_path = f'{repo_path}/{repo_path}'\n",
    "filepath = 'app'\n",
    "\n",
    "since = datetime.fromisoformat('2021-11-08')\n",
    "to = datetime.fromisoformat('2022-11-08')\n",
    "\n",
    "if not path.exists(repo_path):\n",
    "    mkdir(repo_path)\n",
    "\n",
    "repo = Repository(repo_remote_path, clone_repo_to=repo_path, since=since, to=to, filepath=filepath)\n",
    "# clone repo if necessary\n",
    "for commit in repo.traverse_commits():\n",
    "    break\n",
    "git = Git(repo_checkout_path)"
   ]
  },
  {
   "cell_type": "markdown",
   "metadata": {},
   "source": [
    "### Checkout repo at tag v3.5.3"
   ]
  },
  {
   "cell_type": "code",
   "execution_count": null,
   "metadata": {},
   "outputs": [],
   "source": [
    "tag = git.get_commit_from_tag('v3.5.3')\n",
    "git.checkout(tag.hash)"
   ]
  },
  {
   "cell_type": "markdown",
   "source": [
    "## 1 Complexity Hotspots"
   ],
   "metadata": {
    "collapsed": false
   }
  },
  {
   "cell_type": "markdown",
   "source": [
    "1. You must consider only the app folder from the Mastodon repository\n",
    "(i.e., https://github.com/mastodon/mastodon)."
   ],
   "metadata": {
    "collapsed": false
   }
  },
  {
   "cell_type": "markdown",
   "source": [
    "-> nothing to do"
   ],
   "metadata": {
    "collapsed": false
   }
  },
  {
   "cell_type": "markdown",
   "source": [
    "2. Decide on the granularity of your analysis of software entities (e.g., source code\n",
    "files); describe why you selected this specific granularity."
   ],
   "metadata": {
    "collapsed": false
   }
  },
  {
   "cell_type": "markdown",
   "source": [
    "For this analysis the granularity of source code files is used.\n",
    "It is an easy unit to perform measurements on.\n",
    "The mastodon repository contains a ruby on rails application with some javascript for the frontend.\n",
    "In both languages it's possible to define multiple classes in one file. Without performing a programming language\n",
    "specific analysis, it's not possible to measure smaller units."
   ],
   "metadata": {
    "collapsed": false
   }
  },
  {
   "cell_type": "markdown",
   "source": [
    "3. Create a list of all these entities, as they appear in the latest stable release of\n",
    "Mastodon (i.e., tag v3.5.3)."
   ],
   "metadata": {
    "collapsed": false
   }
  },
  {
   "cell_type": "code",
   "execution_count": null,
   "outputs": [],
   "source": [
    "import glob\n",
    "\n",
    "entities = [child for child in glob.glob(f'{repo_checkout_path}/{filepath}/**/*', recursive=True) if path.isfile(child)]\n",
    "\n",
    "print(entities[0:10])"
   ],
   "metadata": {
    "collapsed": false
   }
  },
  {
   "cell_type": "code",
   "execution_count": null,
   "outputs": [],
   "source": [
    "extensions = set([path.splitext(entity)[1] for entity in entities])\n",
    "print(extensions)"
   ],
   "metadata": {
    "collapsed": false
   }
  },
  {
   "cell_type": "markdown",
   "source": [
    "4. Decide on the type of complexity you want to measure for your software entities\n",
    "and explain why you selected this type."
   ],
   "metadata": {
    "collapsed": false
   }
  },
  {
   "cell_type": "markdown",
   "source": [
    "To decide which metric would be a good indicator for complexity, a file was chosen to show the metrics the lizard library provides."
   ],
   "metadata": {
    "collapsed": false
   }
  },
  {
   "cell_type": "code",
   "execution_count": null,
   "outputs": [],
   "source": [
    "import lizard\n",
    "\n",
    "filename = 'mastodon/mastodon/app/workers/scheduler/indexing_scheduler.rb'\n",
    "file = open(filename, mode='r')\n",
    "analysis = lizard.analyze_file.analyze_source_code(filename, file.read())\n",
    "print(f'of file {filename}')\n",
    "print(f'nr of functions: {len(analysis.function_list)}')\n",
    "print(f'cyclomatic complexity: {analysis.CCN}')\n",
    "print(f'lines of code: {analysis.nloc}')\n",
    "print(f'token_count: {analysis.token_count}')\n",
    "try:\n",
    "    print(f'deepest nesting level: {analysis.ND}')\n",
    "except AttributeError:\n",
    "    print(f'deepest nesting level threw an error')"
   ],
   "metadata": {
    "collapsed": false
   }
  },
  {
   "cell_type": "markdown",
   "source": [
    "To keep the analysis simple, the number of lines of code is used in this analysis."
   ],
   "metadata": {
    "collapsed": false
   }
  },
  {
   "cell_type": "markdown",
   "source": [
    "5. Decide on a timeframe on which you want to base your analysis and explain the\n",
    "rationale of your choice."
   ],
   "metadata": {
    "collapsed": false
   }
  },
  {
   "cell_type": "markdown",
   "source": [
    "6. For each entity in the system, measure its complexity and the number of changes\n",
    "(in the given timeframe). Merge these two pieces of information together to cre-\n",
    "ate a candidate list of problematic hotspots in the app part of Mastodon."
   ],
   "metadata": {
    "collapsed": false
   }
  },
  {
   "cell_type": "markdown",
   "source": [
    "7. Visualize the hotspots with a visualization of your choice."
   ],
   "metadata": {
    "collapsed": false
   }
  },
  {
   "cell_type": "markdown",
   "source": [
    "8. Analyze six candidate hotspots (not necessarily the top ones) through:"
   ],
   "metadata": {
    "collapsed": false
   }
  },
  {
   "cell_type": "markdown",
   "source": [
    "Candidate 1:\n",
    "...complexity trend...\n",
    "...manual analysis...."
   ],
   "metadata": {
    "collapsed": false
   }
  },
  {
   "cell_type": "markdown",
   "source": [
    "Candidate 2:"
   ],
   "metadata": {
    "collapsed": false
   }
  },
  {
   "cell_type": "markdown",
   "source": [
    "Candidate 3:"
   ],
   "metadata": {
    "collapsed": false
   }
  },
  {
   "cell_type": "markdown",
   "source": [
    "Candidate 4:"
   ],
   "metadata": {
    "collapsed": false
   }
  },
  {
   "cell_type": "markdown",
   "source": [
    "Candidate 5:"
   ],
   "metadata": {
    "collapsed": false
   }
  },
  {
   "cell_type": "markdown",
   "source": [
    "Candidate 6:"
   ],
   "metadata": {
    "collapsed": false
   }
  },
  {
   "cell_type": "markdown",
   "source": [
    "## 2 Temporal/Logical Coupling"
   ],
   "metadata": {
    "collapsed": false
   }
  },
  {
   "cell_type": "markdown",
   "source": [
    "1. Determine what could be cases of temporal/logical coupling and generate a list\n",
    "of candidates with a set of coupled entities."
   ],
   "metadata": {
    "collapsed": false
   }
  },
  {
   "cell_type": "markdown",
   "source": [
    "2. Visualize these candidate sets of couple entities with a visualization of your\n",
    "choice."
   ],
   "metadata": {
    "collapsed": false
   }
  },
  {
   "cell_type": "markdown",
   "source": [
    "3. For three set candidates in the list:\n",
    "• analyze and explain why these entities are coupled;\n",
    "• describe how important it would be to fix them, and any ideas for their\n",
    "improvement."
   ],
   "metadata": {
    "collapsed": false
   }
  },
  {
   "cell_type": "markdown",
   "source": [
    "Canditate set 1:"
   ],
   "metadata": {
    "collapsed": false
   }
  },
  {
   "cell_type": "markdown",
   "source": [
    "Canditate set 2:"
   ],
   "metadata": {
    "collapsed": false
   }
  },
  {
   "cell_type": "markdown",
   "source": [
    "Candidate set 3:"
   ],
   "metadata": {
    "collapsed": false
   }
  },
  {
   "cell_type": "markdown",
   "source": [
    "## 3 Defective Hotspots"
   ],
   "metadata": {
    "collapsed": false
   }
  },
  {
   "cell_type": "markdown",
   "source": [
    "1. Decide on how you want to detect entities that had defects in the past (e.g.,\n",
    "commit message analysis vs. issue tracking system analysis) and motivate your\n",
    "choice."
   ],
   "metadata": {
    "collapsed": false
   }
  },
  {
   "cell_type": "markdown",
   "source": [
    "2. Determine defective hotspots among the entities in the timeframe that you pre-\n",
    "viously selected (i.e., consider only defects in the selected timeframe). What\n",
    "conclusions can you draw from this?"
   ],
   "metadata": {
    "collapsed": false
   }
  },
  {
   "cell_type": "markdown",
   "source": [
    "3. Determine complexity hotspots at the beginning of your timeframe, then corre-\n",
    "late them with the defects they have presented throughout the entire timeframe.\n",
    "Is there a correlation? Why do you think this is the case?"
   ],
   "metadata": {
    "collapsed": false
   }
  },
  {
   "cell_type": "markdown",
   "source": [
    "4. What conclusions can you draw from the relationship between defective hotspots\n",
    "and complexity hotspots in Mastodon? And on these two metrics in general?\n"
   ],
   "metadata": {
    "collapsed": false
   }
  }
 ],
 "metadata": {
  "kernelspec": {
   "display_name": "Python 3 (ipykernel)",
   "language": "python",
   "name": "python3"
  },
  "language_info": {
   "codemirror_mode": {
    "name": "ipython",
    "version": 3
   },
   "file_extension": ".py",
   "mimetype": "text/x-python",
   "name": "python",
   "nbconvert_exporter": "python",
   "pygments_lexer": "ipython3",
   "version": "3.10.6"
  }
 },
 "nbformat": 4,
 "nbformat_minor": 1
}
