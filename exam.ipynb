{
 "cells": [
  {
   "cell_type": "markdown",
   "metadata": {},
   "source": [
    "# Fundamentals of Software Systems - SE Part I Assignment\n",
    "\n",
    "By Andy Wiemeyer and Lucius Bachmann"
   ]
  },
  {
   "cell_type": "markdown",
   "metadata": {},
   "source": [
    "### Setup tools\n",
    "* checkout repo\n",
    "* initialize Git utility\n",
    "* You can recreate the Repository object with other parameters to analyze different time periods.\n",
    "  The last year was used that the setup is fast."
   ]
  },
  {
   "cell_type": "code",
   "execution_count": null,
   "metadata": {},
   "outputs": [],
   "source": [
    "import os.path\n",
    "from datetime import datetime\n",
    "from os import path, mkdir\n",
    "\n",
    "import pandas as pd\n",
    "import plotly.express as px\n",
    "from pydriller import Repository, Git\n",
    "\n",
    "repo_remote_path = 'https://github.com/mastodon/mastodon.git'\n",
    "repo_path = 'mastodon'\n",
    "repo_checkout_path = f'{repo_path}/{repo_path}'\n",
    "filepath = 'app'\n",
    "\n",
    "if not path.exists(repo_path):\n",
    "    mkdir(repo_path)\n",
    "\n",
    "from_tag = 'v1.0.0'\n",
    "to_tag = 'v1.1.0'\n",
    "\n",
    "repo = Repository(repo_remote_path, clone_repo_to=repo_owner, from_tag=from_tag, to_tag=to_tag)\n",
    "\n",
    "# repo = Repository(repo_remote_path, clone_repo_to=repo_path, since=datetime.fromisoformat('2022-10-01'), filepath=filepath)\n",
    "# clone repo if necessary\n",
    "for commit in repo.traverse_commits():\n",
    "    break\n",
    "git = Git(repo_checkout_path)"
   ]
  },
  {
   "cell_type": "code",
   "execution_count": null,
   "metadata": {},
   "outputs": [],
   "source": [
    "tag = git.get_commit_from_tag('v3.5.3')\n",
    "git.checkout(tag.hash)\n"
   ]
  }
 ],
 "metadata": {
  "kernelspec": {
   "display_name": "Python 3 (ipykernel)",
   "language": "python",
   "name": "python3"
  },
  "language_info": {
   "codemirror_mode": {
    "name": "ipython",
    "version": 3
   },
   "file_extension": ".py",
   "mimetype": "text/x-python",
   "name": "python",
   "nbconvert_exporter": "python",
   "pygments_lexer": "ipython3",
   "version": "3.10.6"
  }
 },
 "nbformat": 4,
 "nbformat_minor": 1
}
